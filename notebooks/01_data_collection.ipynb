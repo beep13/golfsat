{
 "cells": [
  {
   "cell_type": "code",
   "execution_count": 26,
   "id": "f2c1649c-420b-4d8e-afa6-3ac7a3a4c182",
   "metadata": {},
   "outputs": [],
   "source": [
    "import requests\n",
    "import json\n",
    "from datetime import datetime, timedelta\n",
    "import pandas as pd\n",
    "import matplotlib.pyplot as plt\n",
    "%matplotlib inline"
   ]
  },
  {
   "cell_type": "code",
   "execution_count": 53,
   "id": "77b86dfb-76d1-43b2-beb5-45980976817a",
   "metadata": {},
   "outputs": [
    {
     "name": "stdout",
     "output_type": "stream",
     "text": [
      "Successfully authenticated!\n",
      "Request URL: https://catalogue.dataspace.copernicus.eu/odata/v1/Products?%24filter=OData.CSC.Intersects%28area%3Dgeography%27SRID%3D4326%3BPOLYGON%28%28-122.2081+37.7394%2C+-122.2081+37.7494%2C+-122.1981+37.7494%2C+-122.1981+37.7394%2C+-122.2081+37.7394%29%29%27%29+++++++++++++and+ContentDate%2FStart+gt+2023-01-01T00%3A00%3A00.000Z+++++++++++++and+ContentDate%2FStart+lt+2024-03-01T00%3A00%3A00.000Z+++++++++++++and+Collection%2FName+eq+%27SENTINEL-1%27+++++++++++++and+contains%28Name%2C+%27IW_ETA%27%29&%24orderby=ContentDate%2FStart&%24top=100\n"
     ]
    },
    {
     "data": {
      "image/png": "[encoded data removed]",
      "text/plain": [
       "<Figure size 1500x400 with 1 Axes>"
      ]
     },
     "metadata": {},
     "output_type": "display_data"
    },
    {
     "name": "stdout",
     "output_type": "stream",
     "text": [
      "\n",
      "Total products found: 51\n",
      "\n",
      "Date range:\n",
      "First: 2023-07-22 14:16:32.580645+00:00\n",
      "Last: 2024-02-23 14:16:31.378299+00:00\n",
      "\n",
      "Average file size: 75.5 MB\n",
      "Total data volume: 3.8 GB\n"
     ]
    }
   ],
   "source": [
    "username =\n",
    "password =\n",
    "\n",
    "# Authentication endpoints\n",
    "AUTH_URL = \"https://identity.dataspace.copernicus.eu/auth/realms/CDSE/protocol/openid-connect/token\"\n",
    "API_URL = \"https://catalogue.dataspace.copernicus.eu/odata/v1/Products\"\n",
    "\n",
    "def get_access_token(username, password):\n",
    "    data = {\n",
    "        'grant_type': 'password',\n",
    "        'username': username,\n",
    "        'password': password,\n",
    "        'client_id': 'cdse-public'\n",
    "    }\n",
    "    \n",
    "    response = requests.post(AUTH_URL, data=data)\n",
    "    if response.status_code == 200:\n",
    "        return response.json()['access_token']\n",
    "    else:\n",
    "        raise Exception(f\"Authentication failed: {response.text}\")\n",
    "\n",
    "def search_products(access_token, params):\n",
    "    headers = {\n",
    "        'Authorization': f'Bearer {access_token}',\n",
    "        'Accept': 'application/json'\n",
    "    }\n",
    "    \n",
    "    response = requests.get(API_URL, headers=headers, params=params)\n",
    "    print(f\"Request URL: {response.url}\")\n",
    "    if response.status_code == 200:\n",
    "        return response.json()\n",
    "    else:\n",
    "        raise Exception(f\"Search failed: {response.text}\")\n",
    "\n",
    "try:\n",
    "    token = get_access_token(username, password)\n",
    "    print(\"Successfully authenticated!\")\n",
    "    \n",
    "    search_params = {\n",
    "        '$filter': \"\"\"\n",
    "            OData.CSC.Intersects(area=geography'SRID=4326;POLYGON((-122.2081 37.7394, -122.2081 37.7494, -122.1981 37.7494, -122.1981 37.7394, -122.2081 37.7394))')\n",
    "            and ContentDate/Start gt 2023-01-01T00:00:00.000Z\n",
    "            and ContentDate/Start lt 2024-03-01T00:00:00.000Z\n",
    "            and Collection/Name eq 'SENTINEL-1'\n",
    "            and contains(Name, 'IW_ETA')\n",
    "        \"\"\".strip().replace('\\n', ' '),\n",
    "        '$orderby': 'ContentDate/Start',\n",
    "        '$top': 100\n",
    "    }\n",
    "    \n",
    "    results = search_products(token, search_params)\n",
    "    \n",
    "    if results.get('value'):\n",
    "        df = pd.DataFrame(results['value'])\n",
    "        df['StartDate'] = pd.to_datetime(df['ContentDate'].apply(lambda x: x['Start']))\n",
    "        df['EndDate'] = pd.to_datetime(df['ContentDate'].apply(lambda x: x['End']))\n",
    "        df['ContentSize_MB'] = df['ContentLength'] / (1024 * 1024)\n",
    "        \n",
    "        # Visualize temporal coverage\n",
    "        plt.figure(figsize=(15, 4))\n",
    "        plt.scatter(df['StartDate'], [1] * len(df), marker='|', s=100)\n",
    "        plt.title('Temporal Coverage of Sentinel-1 Data')\n",
    "        plt.xlabel('Date')\n",
    "        plt.yticks([])\n",
    "        plt.grid(True, axis='x')\n",
    "        plt.show()\n",
    "        \n",
    "        print(f\"\\nTotal products found: {len(df)}\")\n",
    "        print(\"\\nDate range:\")\n",
    "        print(f\"First: {df['StartDate'].min()}\")\n",
    "        print(f\"Last: {df['StartDate'].max()}\")\n",
    "        print(f\"\\nAverage file size: {df['ContentSize_MB'].mean():.1f} MB\")\n",
    "        print(f\"Total data volume: {df['ContentSize_MB'].sum()/1024:.1f} GB\")\n",
    "        \n",
    "        df.to_csv('../data/sentinel_metadata.csv', index=False)\n",
    "        \n",
    "    else:\n",
    "        print(\"No products found\")\n",
    "\n",
    "except Exception as e:\n",
    "    print(f\"Error: {e}\")\n",
    "\n",
    "\n"
   ]
  },
  {
   "cell_type": "code",
   "execution_count": 48,
   "id": "73c05f8e-bd4f-42e5-9edc-b0df5a32664b",
   "metadata": {},
   "outputs": [],
   "source": [
    "import zipfile"
   ]
  },
  {
   "cell_type": "code",
   "execution_count": 50,
   "id": "9541f744-0fa0-4e70-835e-fd3e3633cb77",
   "metadata": {},
   "outputs": [
    {
     "name": "stdout",
     "output_type": "stream",
     "text": [
      "Examining zip file: ../data/raw/sentinel/S1A_IW_ETA__AXDV_20231208T140810_20231208T140837_051564_063997_1854.SAFE.zip\n",
      "\n",
      "Contents:\n",
      "S1A_IW_ETA__AXDV_20231208T140810_20231208T140837_051564_063997_1854.SAFE/annotation/S1A_IW_ETA__AXDV_20231208T140810_20231208T140837_051564_063997.xml: 0.3 MB\n",
      "S1A_IW_ETA__AXDV_20231208T140810_20231208T140837_051564_063997_1854.SAFE/annotation/S1A_OPER_AUX_POEORB_ETAD_20231229T045625_V20231208T140622_20231208T141022.EOF: 0.0 MB\n",
      "S1A_IW_ETA__AXDV_20231208T140810_20231208T140837_051564_063997_1854.SAFE/manifest.safe: 0.0 MB\n",
      "S1A_IW_ETA__AXDV_20231208T140810_20231208T140837_051564_063997_1854.SAFE/measurement/S1A_IW_ETA__AXDV_20231208T140810_20231208T140837_051564_063997.nc: 76.7 MB\n",
      "S1A_IW_ETA__AXDV_20231208T140810_20231208T140837_051564_063997_1854.SAFE/preview/s1a-iw-eta-dv-20231208t140810-20231208t140837-051564-063997-000.kmz: 0.8 MB\n",
      "S1A_IW_ETA__AXDV_20231208T140810_20231208T140837_051564_063997_1854.SAFE/support/aux_poeorb.xsd: 0.0 MB\n",
      "S1A_IW_ETA__AXDV_20231208T140810_20231208T140837_051564_063997_1854.SAFE/support/etadNetCDF.xsd: 0.0 MB\n",
      "S1A_IW_ETA__AXDV_20231208T140810_20231208T140837_051564_063997_1854.SAFE/support/etadProduct.xsd: 0.2 MB\n",
      "S1A_IW_ETA__AXDV_20231208T140810_20231208T140837_051564_063997_1854.SAFE/support/etadProductPreview.xsd: 0.0 MB\n"
     ]
    }
   ],
   "source": [
    "filename = os.path.join('../data/raw/sentinel', f\"{df.iloc[2]['Name']}.zip\")\n",
    "\n",
    "# Check the zip contents\n",
    "print(f\"Examining zip file: {filename}\")\n",
    "print(\"\\nContents:\")\n",
    "with zipfile.ZipFile(filename, 'r') as zip_ref:\n",
    "    for file in zip_ref.namelist():\n",
    "        info = zip_ref.getinfo(file)\n",
    "        size_mb = info.file_size / (1024 * 1024)\n",
    "        print(f\"{file}: {size_mb:.1f} MB\")"
   ]
  },
  {
   "cell_type": "code",
   "execution_count": null,
   "id": "163058cd-48b4-4475-8ef1-5f40304c731a",
   "metadata": {},
   "outputs": [
    {
     "name": "stdout",
     "output_type": "stream",
     "text": [
      "Successfully authenticated!\n",
      "\n",
      "Downloading image 1 of 51\n",
      "Date: 2023-07-22 14:16:32.580645+00:00\n",
      "Download Progress: [========                                          ] 11.7/71.7 MB"
     ]
    },
    {
     "name": "stderr",
     "output_type": "stream",
     "text": [
      "IOPub message rate exceeded.\n",
      "The Jupyter server will temporarily stop sending output\n",
      "to the client in order to avoid crashing it.\n",
      "To change this limit, set the config variable\n",
      "`--ServerApp.iopub_msg_rate_limit`.\n",
      "\n",
      "Current values:\n",
      "ServerApp.iopub_msg_rate_limit=1000.0 (msgs/sec)\n",
      "ServerApp.rate_limit_window=3.0 (secs)\n",
      "\n"
     ]
    },
    {
     "name": "stdout",
     "output_type": "stream",
     "text": [
      "Download Progress: [==============================                    ] 44.4/71.7 MB"
     ]
    },
    {
     "name": "stderr",
     "output_type": "stream",
     "text": [
      "IOPub message rate exceeded.\n",
      "The Jupyter server will temporarily stop sending output\n",
      "to the client in order to avoid crashing it.\n",
      "To change this limit, set the config variable\n",
      "`--ServerApp.iopub_msg_rate_limit`.\n",
      "\n",
      "Current values:\n",
      "ServerApp.iopub_msg_rate_limit=1000.0 (msgs/sec)\n",
      "ServerApp.rate_limit_window=3.0 (secs)\n",
      "\n"
     ]
    },
    {
     "name": "stdout",
     "output_type": "stream",
     "text": [
      "Download Progress: [==================================================] 71.7/71.7 MB\n",
      "Downloaded: ../data/raw/sentinel/S1A_IW_ETA__AXDV_20230722T141632_20230722T141659_049537_05F4E5_2D88.SAFE.zip\n",
      "\n",
      "Downloading image 2 of 51\n",
      "Date: 2023-07-29 02:07:52.463343+00:00\n",
      "Download Progress: [=======                                           ] 11.7/76.7 MB"
     ]
    },
    {
     "name": "stderr",
     "output_type": "stream",
     "text": [
      "IOPub message rate exceeded.\n",
      "The Jupyter server will temporarily stop sending output\n",
      "to the client in order to avoid crashing it.\n",
      "To change this limit, set the config variable\n",
      "`--ServerApp.iopub_msg_rate_limit`.\n",
      "\n",
      "Current values:\n",
      "ServerApp.iopub_msg_rate_limit=1000.0 (msgs/sec)\n",
      "ServerApp.rate_limit_window=3.0 (secs)\n",
      "\n"
     ]
    },
    {
     "name": "stdout",
     "output_type": "stream",
     "text": [
      "Download Progress: [===========================                       ] 41.9/76.7 MB"
     ]
    },
    {
     "name": "stderr",
     "output_type": "stream",
     "text": [
      "IOPub message rate exceeded.\n",
      "The Jupyter server will temporarily stop sending output\n",
      "to the client in order to avoid crashing it.\n",
      "To change this limit, set the config variable\n",
      "`--ServerApp.iopub_msg_rate_limit`.\n",
      "\n",
      "Current values:\n",
      "ServerApp.iopub_msg_rate_limit=1000.0 (msgs/sec)\n",
      "ServerApp.rate_limit_window=3.0 (secs)\n",
      "\n"
     ]
    },
    {
     "name": "stdout",
     "output_type": "stream",
     "text": [
      "Download Progress: [===============================================   ] 72.9/76.7 MB"
     ]
    },
    {
     "name": "stderr",
     "output_type": "stream",
     "text": [
      "IOPub message rate exceeded.\n",
      "The Jupyter server will temporarily stop sending output\n",
      "to the client in order to avoid crashing it.\n",
      "To change this limit, set the config variable\n",
      "`--ServerApp.iopub_msg_rate_limit`.\n",
      "\n",
      "Current values:\n",
      "ServerApp.iopub_msg_rate_limit=1000.0 (msgs/sec)\n",
      "ServerApp.rate_limit_window=3.0 (secs)\n",
      "\n"
     ]
    },
    {
     "name": "stdout",
     "output_type": "stream",
     "text": [
      "Download Progress: [=======                                           ] 11.8/77.9 MB"
     ]
    },
    {
     "name": "stderr",
     "output_type": "stream",
     "text": [
      "IOPub message rate exceeded.\n",
      "The Jupyter server will temporarily stop sending output\n",
      "to the client in order to avoid crashing it.\n",
      "To change this limit, set the config variable\n",
      "`--ServerApp.iopub_msg_rate_limit`.\n",
      "\n",
      "Current values:\n",
      "ServerApp.iopub_msg_rate_limit=1000.0 (msgs/sec)\n",
      "ServerApp.rate_limit_window=3.0 (secs)\n",
      "\n"
     ]
    },
    {
     "name": "stdout",
     "output_type": "stream",
     "text": [
      "Download Progress: [===========================                       ] 42.3/77.9 MB"
     ]
    },
    {
     "name": "stderr",
     "output_type": "stream",
     "text": [
      "IOPub message rate exceeded.\n",
      "The Jupyter server will temporarily stop sending output\n",
      "to the client in order to avoid crashing it.\n",
      "To change this limit, set the config variable\n",
      "`--ServerApp.iopub_msg_rate_limit`.\n",
      "\n",
      "Current values:\n",
      "ServerApp.iopub_msg_rate_limit=1000.0 (msgs/sec)\n",
      "ServerApp.rate_limit_window=3.0 (secs)\n",
      "\n"
     ]
    },
    {
     "name": "stdout",
     "output_type": "stream",
     "text": [
      "Download Progress: [==============================================    ] 72.6/77.9 MB"
     ]
    },
    {
     "name": "stderr",
     "output_type": "stream",
     "text": [
      "IOPub message rate exceeded.\n",
      "The Jupyter server will temporarily stop sending output\n",
      "to the client in order to avoid crashing it.\n",
      "To change this limit, set the config variable\n",
      "`--ServerApp.iopub_msg_rate_limit`.\n",
      "\n",
      "Current values:\n",
      "ServerApp.iopub_msg_rate_limit=1000.0 (msgs/sec)\n",
      "ServerApp.rate_limit_window=3.0 (secs)\n",
      "\n"
     ]
    },
    {
     "name": "stdout",
     "output_type": "stream",
     "text": [
      "Download Progress: [=======                                           ] 12.0/76.1 MB"
     ]
    },
    {
     "name": "stderr",
     "output_type": "stream",
     "text": [
      "IOPub message rate exceeded.\n",
      "The Jupyter server will temporarily stop sending output\n",
      "to the client in order to avoid crashing it.\n",
      "To change this limit, set the config variable\n",
      "`--ServerApp.iopub_msg_rate_limit`.\n",
      "\n",
      "Current values:\n",
      "ServerApp.iopub_msg_rate_limit=1000.0 (msgs/sec)\n",
      "ServerApp.rate_limit_window=3.0 (secs)\n",
      "\n"
     ]
    },
    {
     "name": "stdout",
     "output_type": "stream",
     "text": [
      "Download Progress: [===========================                       ] 42.4/76.1 MB"
     ]
    },
    {
     "name": "stderr",
     "output_type": "stream",
     "text": [
      "IOPub message rate exceeded.\n",
      "The Jupyter server will temporarily stop sending output\n",
      "to the client in order to avoid crashing it.\n",
      "To change this limit, set the config variable\n",
      "`--ServerApp.iopub_msg_rate_limit`.\n",
      "\n",
      "Current values:\n",
      "ServerApp.iopub_msg_rate_limit=1000.0 (msgs/sec)\n",
      "ServerApp.rate_limit_window=3.0 (secs)\n",
      "\n"
     ]
    },
    {
     "name": "stdout",
     "output_type": "stream",
     "text": [
      "Download Progress: [================================================  ] 73.3/76.1 MB"
     ]
    },
    {
     "name": "stderr",
     "output_type": "stream",
     "text": [
      "IOPub message rate exceeded.\n",
      "The Jupyter server will temporarily stop sending output\n",
      "to the client in order to avoid crashing it.\n",
      "To change this limit, set the config variable\n",
      "`--ServerApp.iopub_msg_rate_limit`.\n",
      "\n",
      "Current values:\n",
      "ServerApp.iopub_msg_rate_limit=1000.0 (msgs/sec)\n",
      "ServerApp.rate_limit_window=3.0 (secs)\n",
      "\n"
     ]
    },
    {
     "name": "stdout",
     "output_type": "stream",
     "text": [
      "Download Progress: [=======                                           ] 11.7/78.1 MB"
     ]
    },
    {
     "name": "stderr",
     "output_type": "stream",
     "text": [
      "IOPub message rate exceeded.\n",
      "The Jupyter server will temporarily stop sending output\n",
      "to the client in order to avoid crashing it.\n",
      "To change this limit, set the config variable\n",
      "`--ServerApp.iopub_msg_rate_limit`.\n",
      "\n",
      "Current values:\n",
      "ServerApp.iopub_msg_rate_limit=1000.0 (msgs/sec)\n",
      "ServerApp.rate_limit_window=3.0 (secs)\n",
      "\n"
     ]
    },
    {
     "name": "stdout",
     "output_type": "stream",
     "text": [
      "Download Progress: [==========================                        ] 41.0/78.1 MB"
     ]
    },
    {
     "name": "stderr",
     "output_type": "stream",
     "text": [
      "IOPub message rate exceeded.\n",
      "The Jupyter server will temporarily stop sending output\n",
      "to the client in order to avoid crashing it.\n",
      "To change this limit, set the config variable\n",
      "`--ServerApp.iopub_msg_rate_limit`.\n",
      "\n",
      "Current values:\n",
      "ServerApp.iopub_msg_rate_limit=1000.0 (msgs/sec)\n",
      "ServerApp.rate_limit_window=3.0 (secs)\n",
      "\n"
     ]
    },
    {
     "name": "stdout",
     "output_type": "stream",
     "text": [
      "Download Progress: [=======================================           ] 61.1/78.1 MB"
     ]
    },
    {
     "name": "stderr",
     "output_type": "stream",
     "text": [
      "IOPub message rate exceeded.\n",
      "The Jupyter server will temporarily stop sending output\n",
      "to the client in order to avoid crashing it.\n",
      "To change this limit, set the config variable\n",
      "`--ServerApp.iopub_msg_rate_limit`.\n",
      "\n",
      "Current values:\n",
      "ServerApp.iopub_msg_rate_limit=1000.0 (msgs/sec)\n",
      "ServerApp.rate_limit_window=3.0 (secs)\n",
      "\n"
     ]
    },
    {
     "name": "stdout",
     "output_type": "stream",
     "text": [
      "Download Progress: [==================================================] 78.1/78.1 MB\n",
      "Downloaded: ../data/raw/sentinel/S1A_IW_ETA__AXDV_20230810T140809_20230810T140836_049814_05FD9D_CD7D.SAFE.zip\n",
      "\n",
      "Refreshed authentication token\n",
      "\n",
      "Downloading image 6 of 51\n",
      "Date: 2023-08-15 14:16:33.724340+00:00\n",
      "Download Progress: [========                                          ] 11.7/72.5 MB"
     ]
    },
    {
     "name": "stderr",
     "output_type": "stream",
     "text": [
      "IOPub message rate exceeded.\n",
      "The Jupyter server will temporarily stop sending output\n",
      "to the client in order to avoid crashing it.\n",
      "To change this limit, set the config variable\n",
      "`--ServerApp.iopub_msg_rate_limit`.\n",
      "\n",
      "Current values:\n",
      "ServerApp.iopub_msg_rate_limit=1000.0 (msgs/sec)\n",
      "ServerApp.rate_limit_window=3.0 (secs)\n",
      "\n"
     ]
    },
    {
     "name": "stdout",
     "output_type": "stream",
     "text": [
      "Download Progress: [=============================                     ] 42.1/72.5 MB"
     ]
    },
    {
     "name": "stderr",
     "output_type": "stream",
     "text": [
      "IOPub message rate exceeded.\n",
      "The Jupyter server will temporarily stop sending output\n",
      "to the client in order to avoid crashing it.\n",
      "To change this limit, set the config variable\n",
      "`--ServerApp.iopub_msg_rate_limit`.\n",
      "\n",
      "Current values:\n",
      "ServerApp.iopub_msg_rate_limit=1000.0 (msgs/sec)\n",
      "ServerApp.rate_limit_window=3.0 (secs)\n",
      "\n"
     ]
    },
    {
     "name": "stdout",
     "output_type": "stream",
     "text": [
      "Download Progress: [================================================= ] 71.6/72.5 MB"
     ]
    },
    {
     "name": "stderr",
     "output_type": "stream",
     "text": [
      "IOPub message rate exceeded.\n",
      "The Jupyter server will temporarily stop sending output\n",
      "to the client in order to avoid crashing it.\n",
      "To change this limit, set the config variable\n",
      "`--ServerApp.iopub_msg_rate_limit`.\n",
      "\n",
      "Current values:\n",
      "ServerApp.iopub_msg_rate_limit=1000.0 (msgs/sec)\n",
      "ServerApp.rate_limit_window=3.0 (secs)\n",
      "\n"
     ]
    },
    {
     "name": "stdout",
     "output_type": "stream",
     "text": [
      "Download Progress: [=======                                           ] 12.1/76.5 MB"
     ]
    },
    {
     "name": "stderr",
     "output_type": "stream",
     "text": [
      "IOPub message rate exceeded.\n",
      "The Jupyter server will temporarily stop sending output\n",
      "to the client in order to avoid crashing it.\n",
      "To change this limit, set the config variable\n",
      "`--ServerApp.iopub_msg_rate_limit`.\n",
      "\n",
      "Current values:\n",
      "ServerApp.iopub_msg_rate_limit=1000.0 (msgs/sec)\n",
      "ServerApp.rate_limit_window=3.0 (secs)\n",
      "\n"
     ]
    },
    {
     "name": "stdout",
     "output_type": "stream",
     "text": [
      "Download Progress: [============================                      ] 44.2/76.5 MB"
     ]
    },
    {
     "name": "stderr",
     "output_type": "stream",
     "text": [
      "IOPub message rate exceeded.\n",
      "The Jupyter server will temporarily stop sending output\n",
      "to the client in order to avoid crashing it.\n",
      "To change this limit, set the config variable\n",
      "`--ServerApp.iopub_msg_rate_limit`.\n",
      "\n",
      "Current values:\n",
      "ServerApp.iopub_msg_rate_limit=1000.0 (msgs/sec)\n",
      "ServerApp.rate_limit_window=3.0 (secs)\n",
      "\n"
     ]
    },
    {
     "name": "stdout",
     "output_type": "stream",
     "text": [
      "Download Progress: [================================================= ] 75.7/76.5 MB"
     ]
    },
    {
     "name": "stderr",
     "output_type": "stream",
     "text": [
      "IOPub message rate exceeded.\n",
      "The Jupyter server will temporarily stop sending output\n",
      "to the client in order to avoid crashing it.\n",
      "To change this limit, set the config variable\n",
      "`--ServerApp.iopub_msg_rate_limit`.\n",
      "\n",
      "Current values:\n",
      "ServerApp.iopub_msg_rate_limit=1000.0 (msgs/sec)\n",
      "ServerApp.rate_limit_window=3.0 (secs)\n",
      "\n"
     ]
    },
    {
     "name": "stdout",
     "output_type": "stream",
     "text": [
      "Download Progress: [=======                                           ] 12.3/77.4 MB"
     ]
    },
    {
     "name": "stderr",
     "output_type": "stream",
     "text": [
      "IOPub message rate exceeded.\n",
      "The Jupyter server will temporarily stop sending output\n",
      "to the client in order to avoid crashing it.\n",
      "To change this limit, set the config variable\n",
      "`--ServerApp.iopub_msg_rate_limit`.\n",
      "\n",
      "Current values:\n",
      "ServerApp.iopub_msg_rate_limit=1000.0 (msgs/sec)\n",
      "ServerApp.rate_limit_window=3.0 (secs)\n",
      "\n"
     ]
    },
    {
     "name": "stdout",
     "output_type": "stream",
     "text": [
      "Download Progress: [=======================                           ] 36.7/77.4 MB"
     ]
    },
    {
     "name": "stderr",
     "output_type": "stream",
     "text": [
      "IOPub message rate exceeded.\n",
      "The Jupyter server will temporarily stop sending output\n",
      "to the client in order to avoid crashing it.\n",
      "To change this limit, set the config variable\n",
      "`--ServerApp.iopub_msg_rate_limit`.\n",
      "\n",
      "Current values:\n",
      "ServerApp.iopub_msg_rate_limit=1000.0 (msgs/sec)\n",
      "ServerApp.rate_limit_window=3.0 (secs)\n",
      "\n"
     ]
    },
    {
     "name": "stdout",
     "output_type": "stream",
     "text": [
      "Download Progress: [========================================          ] 62.3/77.4 MB"
     ]
    },
    {
     "name": "stderr",
     "output_type": "stream",
     "text": [
      "IOPub message rate exceeded.\n",
      "The Jupyter server will temporarily stop sending output\n",
      "to the client in order to avoid crashing it.\n",
      "To change this limit, set the config variable\n",
      "`--ServerApp.iopub_msg_rate_limit`.\n",
      "\n",
      "Current values:\n",
      "ServerApp.iopub_msg_rate_limit=1000.0 (msgs/sec)\n",
      "ServerApp.rate_limit_window=3.0 (secs)\n",
      "\n"
     ]
    },
    {
     "name": "stdout",
     "output_type": "stream",
     "text": [
      "Download Progress: [========                                          ] 11.7/72.0 MB"
     ]
    },
    {
     "name": "stderr",
     "output_type": "stream",
     "text": [
      "IOPub message rate exceeded.\n",
      "The Jupyter server will temporarily stop sending output\n",
      "to the client in order to avoid crashing it.\n",
      "To change this limit, set the config variable\n",
      "`--ServerApp.iopub_msg_rate_limit`.\n",
      "\n",
      "Current values:\n",
      "ServerApp.iopub_msg_rate_limit=1000.0 (msgs/sec)\n",
      "ServerApp.rate_limit_window=3.0 (secs)\n",
      "\n"
     ]
    },
    {
     "name": "stdout",
     "output_type": "stream",
     "text": [
      "Download Progress: [============================                      ] 40.7/72.0 MB"
     ]
    },
    {
     "name": "stderr",
     "output_type": "stream",
     "text": [
      "IOPub message rate exceeded.\n",
      "The Jupyter server will temporarily stop sending output\n",
      "to the client in order to avoid crashing it.\n",
      "To change this limit, set the config variable\n",
      "`--ServerApp.iopub_msg_rate_limit`.\n",
      "\n",
      "Current values:\n",
      "ServerApp.iopub_msg_rate_limit=1000.0 (msgs/sec)\n",
      "ServerApp.rate_limit_window=3.0 (secs)\n",
      "\n"
     ]
    },
    {
     "name": "stdout",
     "output_type": "stream",
     "text": [
      "Download Progress: [================================================= ] 72.0/72.0 MB"
     ]
    },
    {
     "name": "stderr",
     "output_type": "stream",
     "text": [
      "IOPub message rate exceeded.\n",
      "The Jupyter server will temporarily stop sending output\n",
      "to the client in order to avoid crashing it.\n",
      "To change this limit, set the config variable\n",
      "`--ServerApp.iopub_msg_rate_limit`.\n",
      "\n",
      "Current values:\n",
      "ServerApp.iopub_msg_rate_limit=1000.0 (msgs/sec)\n",
      "ServerApp.rate_limit_window=3.0 (secs)\n",
      "\n"
     ]
    },
    {
     "name": "stdout",
     "output_type": "stream",
     "text": [
      "Download Progress: [========                                          ] 13.2/76.5 MB"
     ]
    },
    {
     "name": "stderr",
     "output_type": "stream",
     "text": [
      "IOPub message rate exceeded.\n",
      "The Jupyter server will temporarily stop sending output\n",
      "to the client in order to avoid crashing it.\n",
      "To change this limit, set the config variable\n",
      "`--ServerApp.iopub_msg_rate_limit`.\n",
      "\n",
      "Current values:\n",
      "ServerApp.iopub_msg_rate_limit=1000.0 (msgs/sec)\n",
      "ServerApp.rate_limit_window=3.0 (secs)\n",
      "\n"
     ]
    },
    {
     "name": "stdout",
     "output_type": "stream",
     "text": [
      "Download Progress: [====================================              ] 52.6/71.4 MB"
     ]
    },
    {
     "name": "stderr",
     "output_type": "stream",
     "text": [
      "IOPub message rate exceeded.\n",
      "The Jupyter server will temporarily stop sending output\n",
      "to the client in order to avoid crashing it.\n",
      "To change this limit, set the config variable\n",
      "`--ServerApp.iopub_msg_rate_limit`.\n",
      "\n",
      "Current values:\n",
      "ServerApp.iopub_msg_rate_limit=1000.0 (msgs/sec)\n",
      "ServerApp.rate_limit_window=3.0 (secs)\n",
      "\n"
     ]
    },
    {
     "name": "stdout",
     "output_type": "stream",
     "text": [
      "Download Progress: [=============================================     ] 68.6/76.0 MB"
     ]
    },
    {
     "name": "stderr",
     "output_type": "stream",
     "text": [
      "IOPub message rate exceeded.\n",
      "The Jupyter server will temporarily stop sending output\n",
      "to the client in order to avoid crashing it.\n",
      "To change this limit, set the config variable\n",
      "`--ServerApp.iopub_msg_rate_limit`.\n",
      "\n",
      "Current values:\n",
      "ServerApp.iopub_msg_rate_limit=1000.0 (msgs/sec)\n",
      "ServerApp.rate_limit_window=3.0 (secs)\n",
      "\n"
     ]
    },
    {
     "name": "stdout",
     "output_type": "stream",
     "text": [
      "Download Progress: [=======                                           ] 11.8/77.5 MB"
     ]
    },
    {
     "name": "stderr",
     "output_type": "stream",
     "text": [
      "IOPub message rate exceeded.\n",
      "The Jupyter server will temporarily stop sending output\n",
      "to the client in order to avoid crashing it.\n",
      "To change this limit, set the config variable\n",
      "`--ServerApp.iopub_msg_rate_limit`.\n",
      "\n",
      "Current values:\n",
      "ServerApp.iopub_msg_rate_limit=1000.0 (msgs/sec)\n",
      "ServerApp.rate_limit_window=3.0 (secs)\n",
      "\n"
     ]
    },
    {
     "name": "stdout",
     "output_type": "stream",
     "text": [
      "Download Progress: [============================                      ] 43.6/77.5 MB"
     ]
    },
    {
     "name": "stderr",
     "output_type": "stream",
     "text": [
      "IOPub message rate exceeded.\n",
      "The Jupyter server will temporarily stop sending output\n",
      "to the client in order to avoid crashing it.\n",
      "To change this limit, set the config variable\n",
      "`--ServerApp.iopub_msg_rate_limit`.\n",
      "\n",
      "Current values:\n",
      "ServerApp.iopub_msg_rate_limit=1000.0 (msgs/sec)\n",
      "ServerApp.rate_limit_window=3.0 (secs)\n",
      "\n"
     ]
    },
    {
     "name": "stdout",
     "output_type": "stream",
     "text": [
      "Download Progress: [================================================= ] 76.1/77.5 MB"
     ]
    },
    {
     "name": "stderr",
     "output_type": "stream",
     "text": [
      "IOPub message rate exceeded.\n",
      "The Jupyter server will temporarily stop sending output\n",
      "to the client in order to avoid crashing it.\n",
      "To change this limit, set the config variable\n",
      "`--ServerApp.iopub_msg_rate_limit`.\n",
      "\n",
      "Current values:\n",
      "ServerApp.iopub_msg_rate_limit=1000.0 (msgs/sec)\n",
      "ServerApp.rate_limit_window=3.0 (secs)\n",
      "\n"
     ]
    },
    {
     "name": "stdout",
     "output_type": "stream",
     "text": [
      "Download Progress: [========                                          ] 11.8/72.2 MB"
     ]
    },
    {
     "name": "stderr",
     "output_type": "stream",
     "text": [
      "IOPub message rate exceeded.\n",
      "The Jupyter server will temporarily stop sending output\n",
      "to the client in order to avoid crashing it.\n",
      "To change this limit, set the config variable\n",
      "`--ServerApp.iopub_msg_rate_limit`.\n",
      "\n",
      "Current values:\n",
      "ServerApp.iopub_msg_rate_limit=1000.0 (msgs/sec)\n",
      "ServerApp.rate_limit_window=3.0 (secs)\n",
      "\n"
     ]
    },
    {
     "name": "stdout",
     "output_type": "stream",
     "text": [
      "Download Progress: [==============================                    ] 43.6/72.2 MB"
     ]
    },
    {
     "name": "stderr",
     "output_type": "stream",
     "text": [
      "IOPub message rate exceeded.\n",
      "The Jupyter server will temporarily stop sending output\n",
      "to the client in order to avoid crashing it.\n",
      "To change this limit, set the config variable\n",
      "`--ServerApp.iopub_msg_rate_limit`.\n",
      "\n",
      "Current values:\n",
      "ServerApp.iopub_msg_rate_limit=1000.0 (msgs/sec)\n",
      "ServerApp.rate_limit_window=3.0 (secs)\n",
      "\n"
     ]
    },
    {
     "name": "stdout",
     "output_type": "stream",
     "text": [
      "Download Progress: [==========================================        ] 63.9/76.1 MB"
     ]
    },
    {
     "name": "stderr",
     "output_type": "stream",
     "text": [
      "IOPub message rate exceeded.\n",
      "The Jupyter server will temporarily stop sending output\n",
      "to the client in order to avoid crashing it.\n",
      "To change this limit, set the config variable\n",
      "`--ServerApp.iopub_msg_rate_limit`.\n",
      "\n",
      "Current values:\n",
      "ServerApp.iopub_msg_rate_limit=1000.0 (msgs/sec)\n",
      "ServerApp.rate_limit_window=3.0 (secs)\n",
      "\n"
     ]
    },
    {
     "name": "stdout",
     "output_type": "stream",
     "text": [
      "Download Progress: [======================                            ] 35.0/76.1 MB"
     ]
    },
    {
     "name": "stderr",
     "output_type": "stream",
     "text": [
      "IOPub message rate exceeded.\n",
      "The Jupyter server will temporarily stop sending output\n",
      "to the client in order to avoid crashing it.\n",
      "To change this limit, set the config variable\n",
      "`--ServerApp.iopub_msg_rate_limit`.\n",
      "\n",
      "Current values:\n",
      "ServerApp.iopub_msg_rate_limit=1000.0 (msgs/sec)\n",
      "ServerApp.rate_limit_window=3.0 (secs)\n",
      "\n"
     ]
    },
    {
     "name": "stdout",
     "output_type": "stream",
     "text": [
      "Download Progress: [============================================      ] 68.0/76.1 MB"
     ]
    },
    {
     "name": "stderr",
     "output_type": "stream",
     "text": [
      "IOPub message rate exceeded.\n",
      "The Jupyter server will temporarily stop sending output\n",
      "to the client in order to avoid crashing it.\n",
      "To change this limit, set the config variable\n",
      "`--ServerApp.iopub_msg_rate_limit`.\n",
      "\n",
      "Current values:\n",
      "ServerApp.iopub_msg_rate_limit=1000.0 (msgs/sec)\n",
      "ServerApp.rate_limit_window=3.0 (secs)\n",
      "\n"
     ]
    },
    {
     "name": "stdout",
     "output_type": "stream",
     "text": [
      "Download Progress: [=======                                           ] 11.7/77.5 MB"
     ]
    },
    {
     "name": "stderr",
     "output_type": "stream",
     "text": [
      "IOPub message rate exceeded.\n",
      "The Jupyter server will temporarily stop sending output\n",
      "to the client in order to avoid crashing it.\n",
      "To change this limit, set the config variable\n",
      "`--ServerApp.iopub_msg_rate_limit`.\n",
      "\n",
      "Current values:\n",
      "ServerApp.iopub_msg_rate_limit=1000.0 (msgs/sec)\n",
      "ServerApp.rate_limit_window=3.0 (secs)\n",
      "\n"
     ]
    },
    {
     "name": "stdout",
     "output_type": "stream",
     "text": [
      "Download Progress: [===============                                   ] 23.5/78.2 MB"
     ]
    },
    {
     "name": "stderr",
     "output_type": "stream",
     "text": [
      "IOPub message rate exceeded.\n",
      "The Jupyter server will temporarily stop sending output\n",
      "to the client in order to avoid crashing it.\n",
      "To change this limit, set the config variable\n",
      "`--ServerApp.iopub_msg_rate_limit`.\n",
      "\n",
      "Current values:\n",
      "ServerApp.iopub_msg_rate_limit=1000.0 (msgs/sec)\n",
      "ServerApp.rate_limit_window=3.0 (secs)\n",
      "\n"
     ]
    },
    {
     "name": "stdout",
     "output_type": "stream",
     "text": [
      "Download Progress: [=======================================           ] 60.6/76.2 MB"
     ]
    },
    {
     "name": "stderr",
     "output_type": "stream",
     "text": [
      "IOPub message rate exceeded.\n",
      "The Jupyter server will temporarily stop sending output\n",
      "to the client in order to avoid crashing it.\n",
      "To change this limit, set the config variable\n",
      "`--ServerApp.iopub_msg_rate_limit`.\n",
      "\n",
      "Current values:\n",
      "ServerApp.iopub_msg_rate_limit=1000.0 (msgs/sec)\n",
      "ServerApp.rate_limit_window=3.0 (secs)\n",
      "\n"
     ]
    },
    {
     "name": "stdout",
     "output_type": "stream",
     "text": [
      "Download Progress: [=======                                           ] 11.7/78.4 MB"
     ]
    },
    {
     "name": "stderr",
     "output_type": "stream",
     "text": [
      "IOPub message rate exceeded.\n",
      "The Jupyter server will temporarily stop sending output\n",
      "to the client in order to avoid crashing it.\n",
      "To change this limit, set the config variable\n",
      "`--ServerApp.iopub_msg_rate_limit`.\n",
      "\n",
      "Current values:\n",
      "ServerApp.iopub_msg_rate_limit=1000.0 (msgs/sec)\n",
      "ServerApp.rate_limit_window=3.0 (secs)\n",
      "\n"
     ]
    },
    {
     "name": "stdout",
     "output_type": "stream",
     "text": [
      "Download Progress: [============================                      ] 44.3/78.4 MB"
     ]
    },
    {
     "name": "stderr",
     "output_type": "stream",
     "text": [
      "IOPub message rate exceeded.\n",
      "The Jupyter server will temporarily stop sending output\n",
      "to the client in order to avoid crashing it.\n",
      "To change this limit, set the config variable\n",
      "`--ServerApp.iopub_msg_rate_limit`.\n",
      "\n",
      "Current values:\n",
      "ServerApp.iopub_msg_rate_limit=1000.0 (msgs/sec)\n",
      "ServerApp.rate_limit_window=3.0 (secs)\n",
      "\n"
     ]
    },
    {
     "name": "stdout",
     "output_type": "stream",
     "text": [
      "Download Progress: [===============================================   ] 73.7/78.4 MB"
     ]
    }
   ],
   "source": [
    "def download_sentinel_image(product_id, product_name, token, base_dir='../data/raw/sentinel'):\n",
    "    \"\"\"Download a single Sentinel image\"\"\"\n",
    "    download_url = f\"https://zipper.dataspace.copernicus.eu/odata/v1/Products({product_id})/$value\"\n",
    "    \n",
    "    headers = {\n",
    "        'Authorization': f'Bearer {token}',\n",
    "        'Accept': '*/*'\n",
    "    }\n",
    "    \n",
    "    filename = os.path.join(base_dir, f\"{product_name}.zip\")\n",
    "    \n",
    "    # Skip if file already exists\n",
    "    if os.path.exists(filename):\n",
    "        print(f\"File already exists: {filename}\")\n",
    "        return True\n",
    "    \n",
    "    response = requests.get(download_url, headers=headers, stream=True)\n",
    "    \n",
    "    if response.status_code == 200:\n",
    "        total_size = int(response.headers.get('content-length', 0))\n",
    "        \n",
    "        with open(filename, 'wb') as f:\n",
    "            if total_size == 0:\n",
    "                f.write(response.content)\n",
    "            else:\n",
    "                downloaded = 0\n",
    "                total_size_mb = total_size / (1024 * 1024)\n",
    "                for data in response.iter_content(chunk_size=4096):\n",
    "                    downloaded += len(data)\n",
    "                    f.write(data)\n",
    "                    done = int(50 * downloaded / total_size)\n",
    "                    print(f\"\\rDownload Progress: [{'=' * done}{' ' * (50-done)}] {downloaded/(1024*1024):.1f}/{total_size_mb:.1f} MB\", \n",
    "                          end='', flush=True)\n",
    "        print(f\"\\nDownloaded: {filename}\")\n",
    "        return True\n",
    "    else:\n",
    "        print(f\"Error downloading {product_name}: {response.status_code}\")\n",
    "        return False\n",
    "\n",
    "try:\n",
    "    token = get_access_token(username, password)\n",
    "    print(\"Successfully authenticated!\")\n",
    "    \n",
    "    total_images = len(df)\n",
    "    successful_downloads = 0\n",
    "    \n",
    "    for idx, row in df.iterrows():\n",
    "        print(f\"\\nDownloading image {idx + 1} of {total_images}\")\n",
    "        print(f\"Date: {row['StartDate']}\")\n",
    "        \n",
    "        if download_sentinel_image(row['Id'], row['Name'], token):\n",
    "            successful_downloads += 1\n",
    "        \n",
    "        # Get fresh token every 5 downloads\n",
    "        if (idx + 1) % 5 == 0:\n",
    "            token = get_access_token(username, password)\n",
    "            print(\"\\nRefreshed authentication token\")\n",
    "    \n",
    "    print(f\"\\nDownload complete! Successfully downloaded {successful_downloads} of {total_images} images\")\n",
    "\n",
    "except Exception as e:\n",
    "    print(f\"Error: {e}\")"
   ]
  },
  {
   "cell_type": "code",
   "execution_count": 58,
   "id": "a223d14a-61a1-4ea5-85bc-d0b102378695",
   "metadata": {},
   "outputs": [
    {
     "name": "stdout",
     "output_type": "stream",
     "text": [
      "Expected files: 51\n",
      "Downloaded files: 51\n",
      "\n",
      "Verification Summary:\n",
      "Total files expected: 51\n",
      "Files downloaded: 51\n",
      "Valid zip files: 51\n",
      "Files with NC data: 51\n",
      "\n",
      "All files verified successfully!\n"
     ]
    }
   ],
   "source": [
    "def verify_sentinel_downloads():\n",
    "    metadata_df = pd.read_csv('../data/sentinel_metadata.csv')\n",
    "    \n",
    "    # Get list of downloaded files\n",
    "    download_dir = '../data/raw/sentinel'\n",
    "    downloaded_files = os.listdir(download_dir)\n",
    "    \n",
    "    print(f\"Expected files: {len(metadata_df)}\")\n",
    "    print(f\"Downloaded files: {len(downloaded_files)}\")\n",
    "    \n",
    "    # Create verification dataframe\n",
    "    verification = []\n",
    "    \n",
    "    for idx, row in metadata_df.iterrows():\n",
    "        expected_filename = f\"{row['Name']}.zip\"\n",
    "        file_path = os.path.join(download_dir, expected_filename)\n",
    "        \n",
    "        file_exists = os.path.exists(file_path)\n",
    "        file_size_mb = os.path.getsize(file_path)/1024/1024 if file_exists else 0\n",
    "        expected_size_mb = row['ContentSize_MB'] if 'ContentSize_MB' in row else None\n",
    "        \n",
    "        # Check if zip file is valid and contains .nc file\n",
    "        zip_valid = False\n",
    "        has_nc_file = False\n",
    "        if file_exists:\n",
    "            try:\n",
    "                with zipfile.ZipFile(file_path, 'r') as zip_ref:\n",
    "                    zip_valid = True\n",
    "                    nc_files = [f for f in zip_ref.namelist() if f.endswith('.nc')]\n",
    "                    has_nc_file = len(nc_files) > 0\n",
    "            except zipfile.BadZipFile:\n",
    "                zip_valid = False\n",
    "        \n",
    "        verification.append({\n",
    "            'date': row['StartDate'],\n",
    "            'filename': expected_filename,\n",
    "            'downloaded': file_exists,\n",
    "            'file_size_mb': round(file_size_mb, 1),\n",
    "            'expected_size_mb': round(float(expected_size_mb), 1) if expected_size_mb else None,\n",
    "            'size_match': abs(file_size_mb - expected_size_mb) < 1 if expected_size_mb else False,\n",
    "            'valid_zip': zip_valid,\n",
    "            'has_nc_file': has_nc_file\n",
    "        })\n",
    "    \n",
    "    verify_df = pd.DataFrame(verification)\n",
    "    \n",
    "    # Summary statistics\n",
    "    print(\"\\nVerification Summary:\")\n",
    "    print(f\"Total files expected: {len(metadata_df)}\")\n",
    "    print(f\"Files downloaded: {verify_df['downloaded'].sum()}\")\n",
    "    print(f\"Valid zip files: {verify_df['valid_zip'].sum()}\")\n",
    "    print(f\"Files with NC data: {verify_df['has_nc_file'].sum()}\")\n",
    "    \n",
    "    # Show any problems\n",
    "    problems = verify_df[\n",
    "        ~(verify_df['downloaded'] & \n",
    "          verify_df['valid_zip'] & \n",
    "          verify_df['has_nc_file'] & \n",
    "          verify_df['size_match'])\n",
    "    ]\n",
    "    \n",
    "    if len(problems) > 0:\n",
    "        print(\"\\nProblem files:\")\n",
    "        display(problems)\n",
    "    else:\n",
    "        print(\"\\nAll files verified successfully!\")\n",
    "    \n",
    "    return verify_df\n",
    "\n",
    "# Run verification\n",
    "verify_df = verify_sentinel_downloads()"
   ]
  },
  {
   "cell_type": "code",
   "execution_count": 74,
   "id": "7fe5390e-ab0e-467b-af74-9f89a3877bde",
   "metadata": {},
   "outputs": [],
   "source": [
    "import netCDF4 as nc\n",
    "import numpy as np\n",
    "from zipfile import ZipFile\n",
    "from osgeo import gdal\n",
    "import xml.etree.ElementTree as ET\n",
    "import xarray as xr"
   ]
  },
  {
   "cell_type": "code",
   "execution_count": 76,
   "id": "c8e70535-bf19-4d56-a257-70b42a404207",
   "metadata": {},
   "outputs": [
    {
     "name": "stdout",
     "output_type": "stream",
     "text": [
      "Processing: ../data/raw/sentinel/S1A_IW_ETA__AXDV_20230722T141632_20230722T141659_049537_05F4E5_2D88.SAFE.zip\n",
      "\n",
      "NetCDF file: S1A_IW_ETA__AXDV_20230722T141632_20230722T141659_049537_05F4E5_2D88.SAFE/measurement/S1A_IW_ETA__AXDV_20230722T141632_20230722T141659_049537_05F4E5.nc\n",
      "\n",
      "Dataset Info:\n",
      "xarray.Dataset {\n",
      "dimensions:\n",
      "\n",
      "variables:\n",
      "\n",
      "// global attributes:\n",
      "\t:pIndex = 1 ;\n",
      "\t:azimuthTimeMin = 2023-07-22T14:16:32.580645 ;\n",
      "\t:azimuthTimeMax = 2023-07-22T14:16:59.648094 ;\n",
      "\t:rangeTimeMin = 0.005338442964314294 ;\n",
      "\t:rangeTimeMax = 0.006400439386461206 ;\n",
      "}None\n",
      "\n",
      "Coordinates and Dimensions:\n",
      "Coordinates:\n",
      "    *empty*\n",
      "\n",
      "Data Variables:\n",
      "Data variables:\n",
      "    *empty*\n"
     ]
    }
   ],
   "source": [
    "def process_sentinel_data(zip_path):\n",
    "    \"\"\"Process Sentinel-1 ETA data using xarray\"\"\"\n",
    "    \n",
    "    print(f\"Processing: {zip_path}\")\n",
    "    \n",
    "    with ZipFile(zip_path, 'r') as zip_ref:\n",
    "        # Extract the NetCDF file\n",
    "        nc_files = [f for f in zip_ref.namelist() if f.endswith('.nc')]\n",
    "        if not nc_files:\n",
    "            raise ValueError(\"No NetCDF file found in zip\")\n",
    "            \n",
    "        print(f\"\\nNetCDF file: {nc_files[0]}\")\n",
    "        zip_ref.extract(nc_files[0], '../data/temp')\n",
    "        nc_path = os.path.join('../data/temp', nc_files[0])\n",
    "        \n",
    "        try:\n",
    "            # Open with xarray\n",
    "            ds = xr.open_dataset(nc_path)\n",
    "            \n",
    "            # Print dataset information\n",
    "            print(\"\\nDataset Info:\")\n",
    "            print(ds.info())\n",
    "            \n",
    "            # Print coordinates and dimensions\n",
    "            print(\"\\nCoordinates and Dimensions:\")\n",
    "            print(ds.coords)\n",
    "            \n",
    "            # Print data variables\n",
    "            print(\"\\nData Variables:\")\n",
    "            print(ds.data_vars)\n",
    "            \n",
    "            # Try to access and plot some data\n",
    "            for var_name in ds.data_vars:\n",
    "                print(f\"\\nVariable: {var_name}\")\n",
    "                data = ds[var_name].values\n",
    "                print(f\"Shape: {data.shape}\")\n",
    "                print(f\"Data type: {data.dtype}\")\n",
    "                print(f\"Min: {np.nanmin(data)}\")\n",
    "                print(f\"Max: {np.nanmax(data)}\")\n",
    "                \n",
    "                # Plot first layer if data is 2D or 3D\n",
    "                if len(data.shape) in [2, 3]:\n",
    "                    plt.figure(figsize=(12, 8))\n",
    "                    if len(data.shape) == 3:\n",
    "                        plot_data = data[0]  # Take first layer\n",
    "                    else:\n",
    "                        plot_data = data\n",
    "                    plt.imshow(plot_data, cmap='RdBu_r')\n",
    "                    plt.colorbar(label=var_name)\n",
    "                    plt.title(f'Variable: {var_name}')\n",
    "                    plt.show()\n",
    "            \n",
    "            ds.close()\n",
    "            \n",
    "        except Exception as e:\n",
    "            print(f\"Error reading NetCDF file: {e}\")\n",
    "        \n",
    "        finally:\n",
    "            # Clean up\n",
    "            os.remove(nc_path)\n",
    "\n",
    "# Process our first file\n",
    "sample_file = os.path.join('../data/raw/sentinel', verify_df.iloc[0]['filename'])\n",
    "process_sentinel_data(sample_file)"
   ]
  },
  {
   "cell_type": "code",
   "execution_count": null,
   "id": "53cfb32c-5612-4d6b-9a9f-c89d6ec3a27d",
   "metadata": {},
   "outputs": [],
   "source": []
  }
 ],
 "metadata": {
  "kernelspec": {
   "display_name": "Python 3 (ipykernel)",
   "language": "python",
   "name": "python3"
  },
  "language_info": {
   "codemirror_mode": {
    "name": "ipython",
    "version": 3
   },
   "file_extension": ".py",
   "mimetype": "text/x-python",
   "name": "python",
   "nbconvert_exporter": "python",
   "pygments_lexer": "ipython3",
   "version": "3.10.13"
  }
 },
 "nbformat": 4,
 "nbformat_minor": 5
}
